{
 "cells": [
  {
   "cell_type": "markdown",
   "id": "383c675f-bb2a-4bd2-8fd6-2db3433e9738",
   "metadata": {},
   "source": [
    "# 사이킷런 version 확인"
   ]
  },
  {
   "cell_type": "code",
   "execution_count": 1,
   "id": "f6ec3986-6c97-41ca-9f6b-c646c880cfd7",
   "metadata": {
    "tags": []
   },
   "outputs": [
    {
     "data": {
      "text/plain": [
       "'1.3.0'"
      ]
     },
     "execution_count": 1,
     "metadata": {},
     "output_type": "execute_result"
    }
   ],
   "source": [
    "import sklearn\n",
    "sklearn.__version__"
   ]
  },
  {
   "cell_type": "markdown",
   "id": "1a428ba1-6b71-4683-86ea-099af045e025",
   "metadata": {},
   "source": [
    "### 만약 version이 1.0 이하라면 update해줘야함"
   ]
  },
  {
   "cell_type": "code",
   "execution_count": null,
   "id": "63d35e34-c1b7-4a50-a2b3-4679782bfc2a",
   "metadata": {},
   "outputs": [],
   "source": [
    "!pip install scikit-learn --user --upgrade"
   ]
  }
 ],
 "metadata": {
  "kernelspec": {
   "display_name": "Python 3 (ipykernel)",
   "language": "python",
   "name": "python3"
  },
  "language_info": {
   "codemirror_mode": {
    "name": "ipython",
    "version": 3
   },
   "file_extension": ".py",
   "mimetype": "text/x-python",
   "name": "python",
   "nbconvert_exporter": "python",
   "pygments_lexer": "ipython3",
   "version": "3.11.4"
  }
 },
 "nbformat": 4,
 "nbformat_minor": 5
}
