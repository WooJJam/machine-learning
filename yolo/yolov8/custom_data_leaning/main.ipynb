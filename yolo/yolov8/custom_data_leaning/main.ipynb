{
 "cells": [
  {
   "cell_type": "markdown",
   "id": "92f7037f",
   "metadata": {},
   "source": [
    "### quarium Dataset (custom data) 다운로드\n",
    "#### Public Dataset : https://public.roboflow.com/object-detection/aquarium/2"
   ]
  },
  {
   "cell_type": "code",
   "execution_count": null,
   "id": "42a27d57",
   "metadata": {},
   "outputs": [
    {
     "name": "stdout",
     "output_type": "stream",
     "text": [
      "tensor([[0.4798, 0.8238, 0.2738],\n",
      "        [0.5891, 0.4464, 0.3424],\n",
      "        [0.9645, 0.6322, 0.7187],\n",
      "        [0.3097, 0.7507, 0.9331],\n",
      "        [0.8235, 0.7332, 0.3621]])\n"
     ]
    }
   ],
   "source": [
    "!pip install PyYAML"
   ]
  },
  {
   "cell_type": "code",
   "execution_count": null,
   "id": "b2e0baa3",
   "metadata": {},
   "outputs": [],
   "source": [
    "# yaml 파일을 학습이 가능하도록 경로 설정.\n",
    "# key-value 데이터인 dict 데이터타입으로 data['train'], data['val'], data['nc'], data['names'] 에 넣어주는데,\n",
    "# 가장 중요한 부분은 데이터 경로 설정임.\n",
    "\n",
    "import yaml\n",
    "\n",
    "data = { 'train' : '/Users/woojjam/Desktop/study/machine-learning/yolo/yolov8/custom_data_learning/train/images/',\n",
    "         'val' : '/Users/woojjam/Desktop/study/machine-learning/yolo/yolov8/custom_data_learning/val/images/',\n",
    "         'test' : '/Users/woojjam/Desktop/study/machine-learning/yolo/yolov8/custom_data_learning/test/images/',\n",
    "         'names' : ['fish', 'jellyfish', 'penguin', 'puffin', 'shark', 'starfish', 'stingray'],\n",
    "         'nc' : 7 }\n",
    "\n",
    "with open('/Users/woojjam/Desktop/study/machine-learning/yolo/yolov8/custom_data_learning/Aquarium_Data.yaml', 'w') as f:\n",
    "  yaml.dump(data, f)\n",
    "\n",
    "\n",
    "with open('/Users/woojjam/Desktop/study/machine-learning/yolo/yolov8/custom_data_learning/Aquarium_Data.yaml', 'r') as f:\n",
    "  aquarium_yaml = yaml.safe_load(f)\n",
    "  display(aquarium_yaml)"
   ]
  },
  {
   "cell_type": "code",
   "execution_count": null,
   "id": "784487cd",
   "metadata": {},
   "outputs": [],
   "source": [
    "!pip install ultralytics"
   ]
  },
  {
   "cell_type": "code",
   "execution_count": null,
   "id": "3939c307",
   "metadata": {},
   "outputs": [],
   "source": [
    "import ultralytics\n",
    "\n",
    "ultralytics.checks()"
   ]
  },
  {
   "cell_type": "code",
   "execution_count": null,
   "id": "6038bef0",
   "metadata": {},
   "outputs": [],
   "source": [
    "# Load YOLOv8n\n",
    "\n",
    "from ultralytics import YOLO\n",
    "\n",
    "model = YOLO('yolov8n.pt')  # load a pretrained YOLOv8n detection model"
   ]
  },
  {
   "cell_type": "code",
   "execution_count": null,
   "id": "56b50931",
   "metadata": {},
   "outputs": [],
   "source": [
    "print(type(model.names), len(model.names))\n",
    "\n",
    "print(model.names)"
   ]
  },
  {
   "cell_type": "code",
   "execution_count": null,
   "id": "12750748",
   "metadata": {},
   "outputs": [],
   "source": [
    "model.train(data='/content/Aquarium_Data/Aquarium_Data.yaml', epochs=100, patience=30, batch=32, imgsz=416)"
   ]
  },
  {
   "cell_type": "code",
   "execution_count": null,
   "id": "56808454",
   "metadata": {},
   "outputs": [],
   "source": [
    "results = model.predict(source='/content/Aquarium_Data/test/images/', save=True)"
   ]
  },
  {
   "cell_type": "code",
   "execution_count": null,
   "id": "c6195087",
   "metadata": {},
   "outputs": [],
   "source": [
    "print(type(results), len(results))"
   ]
  },
  {
   "cell_type": "code",
   "execution_count": null,
   "id": "07e4d503",
   "metadata": {},
   "outputs": [],
   "source": [
    "import numpy as np\n",
    "\n",
    "for result in results:\n",
    "        \n",
    "    uniq, cnt = np.unique(result.boxes.cls.cpu().numpy(), return_counts=True)  # Torch.Tensor -> numpy\n",
    "    uniq_cnt_dict = dict(zip(uniq, cnt))\n",
    "\n",
    "    print('\\n{class num:counts} =', uniq_cnt_dict,'\\n')\n",
    "\n",
    "    for c in result.boxes.cls:\n",
    "        print('class num =', int(c), ', class_name =', model.names[int(c)])"
   ]
  }
 ],
 "metadata": {
  "kernelspec": {
   "display_name": "base",
   "language": "python",
   "name": "python3"
  },
  "language_info": {
   "codemirror_mode": {
    "name": "ipython",
    "version": 3
   },
   "file_extension": ".py",
   "mimetype": "text/x-python",
   "name": "python",
   "nbconvert_exporter": "python",
   "pygments_lexer": "ipython3",
   "version": "3.11.4"
  }
 },
 "nbformat": 4,
 "nbformat_minor": 5
}
