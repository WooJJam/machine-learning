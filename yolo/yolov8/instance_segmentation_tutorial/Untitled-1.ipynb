{
 "cells": [
  {
   "cell_type": "code",
   "execution_count": 6,
   "metadata": {},
   "outputs": [],
   "source": [
    "from ultralytics import YOLO\n",
    "model = YOLO(\"yolov8n-seg.pt\")"
   ]
  },
  {
   "cell_type": "code",
   "execution_count": 9,
   "metadata": {},
   "outputs": [
    {
     "name": "stderr",
     "output_type": "stream",
     "text": [
      "\n",
      "image 1/4 /Users/woojjam/Desktop/study/machine-learning/yolo/instance-segmentation/YOLOv8_Instance_Segmentation_Tutorial_test_image_dir/test1.jpg: 544x640 1 cat, 1 laptop, 1 mouse, 2 keyboards, 1 cell phone, 114.5ms\n",
      "image 2/4 /Users/woojjam/Desktop/study/machine-learning/yolo/instance-segmentation/YOLOv8_Instance_Segmentation_Tutorial_test_image_dir/test2.jpg: 448x640 5 zebras, 1 giraffe, 88.8ms\n",
      "image 3/4 /Users/woojjam/Desktop/study/machine-learning/yolo/instance-segmentation/YOLOv8_Instance_Segmentation_Tutorial_test_image_dir/test3.jpg: 640x640 2 cups, 1 bowl, 2 sandwichs, 1 dining table, 127.5ms\n",
      "image 4/4 /Users/woojjam/Desktop/study/machine-learning/yolo/instance-segmentation/YOLOv8_Instance_Segmentation_Tutorial_test_image_dir/test4.jpg: 480x640 2 persons, 1 horse, 92.3ms\n",
      "Speed: 1.9ms preprocess, 105.8ms inference, 3.7ms postprocess per image at shape (1, 3, 480, 640)\n",
      "Results saved to \u001b[1mruns/segment/predict\u001b[0m\n"
     ]
    }
   ],
   "source": [
    "result = model.predict(source=\"/Users/woojjam/Desktop/study/machine-learning/yolo/instance-segmentation/YOLOv8_Instance_Segmentation_Tutorial_test_image_dir/*.jpg\", save=True)"
   ]
  }
 ],
 "metadata": {
  "kernelspec": {
   "display_name": "base",
   "language": "python",
   "name": "python3"
  },
  "language_info": {
   "codemirror_mode": {
    "name": "ipython",
    "version": 3
   },
   "file_extension": ".py",
   "mimetype": "text/x-python",
   "name": "python",
   "nbconvert_exporter": "python",
   "pygments_lexer": "ipython3",
   "version": "3.11.4"
  },
  "orig_nbformat": 4
 },
 "nbformat": 4,
 "nbformat_minor": 2
}
