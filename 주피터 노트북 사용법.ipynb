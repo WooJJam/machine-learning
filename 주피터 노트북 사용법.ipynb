{
 "cells": [
  {
   "cell_type": "markdown",
   "id": "afa6d9a2-8db9-4093-bb03-5a08216e609e",
   "metadata": {},
   "source": [
    "# Jupyter Notebook\n",
    "\n",
    "주피터 노트북은 웹 브라우저 상에서 개발을 할 수 있는 도구이며, 코드를 Cell 단위로 묶어서 실행하고 그래프나 표, 그리고 이미지나 영상 등을 쉽게 볼 수 있어서\n",
    "특히 데이터 관련 작업을 할 때 많이 활용됩니다.\n",
    "\n",
    "> 교육을 위한 강의 노트로도 아주 훌룡해"
   ]
  },
  {
   "cell_type": "code",
   "execution_count": 12,
   "id": "178588b3-91e1-4ba0-9d47-6180d685928c",
   "metadata": {},
   "outputs": [
    {
     "name": "stdout",
     "output_type": "stream",
     "text": [
      "환영합니다.\n"
     ]
    }
   ],
   "source": [
    "print(\"환영합니다.\")"
   ]
  },
  {
   "cell_type": "code",
   "execution_count": 13,
   "id": "93a60fde-d004-4747-8649-be86fced4d2e",
   "metadata": {
    "tags": []
   },
   "outputs": [
    {
     "name": "stdout",
     "output_type": "stream",
     "text": [
      "Hello World!\n"
     ]
    }
   ],
   "source": [
    "print(\"Hello World!\")"
   ]
  },
  {
   "cell_type": "code",
   "execution_count": 18,
   "id": "adea5486-aed0-4cf6-913f-23d237ebc432",
   "metadata": {
    "tags": []
   },
   "outputs": [
    {
     "name": "stdout",
     "output_type": "stream",
     "text": [
      "연탄이\n"
     ]
    }
   ],
   "source": [
    "name = \"연탄이\"\n",
    "print(name);"
   ]
  },
  {
   "cell_type": "code",
   "execution_count": 19,
   "id": "221c973f-06f2-4e88-b61e-e656af65523d",
   "metadata": {
    "tags": []
   },
   "outputs": [
    {
     "name": "stdout",
     "output_type": "stream",
     "text": [
      "컨트롤 + 엔터: 현재 Cell 실행!\n"
     ]
    }
   ],
   "source": [
    "print(\"컨트롤 + 엔터: 현재 Cell 실행!\")"
   ]
  },
  {
   "cell_type": "code",
   "execution_count": 20,
   "id": "c5d05498-736e-428c-82d0-5aa9b846dde0",
   "metadata": {
    "tags": []
   },
   "outputs": [
    {
     "name": "stdout",
     "output_type": "stream",
     "text": [
      "쉬프트 + 엔터: 현재 cell 실행 후 다음 cell 선택\n"
     ]
    }
   ],
   "source": [
    "print(\"쉬프트 + 엔터: 현재 cell 실행 후 다음 cell 선택\")"
   ]
  },
  {
   "cell_type": "code",
   "execution_count": 23,
   "id": "6223b13c-bc9e-4263-ba53-6a17d8d67153",
   "metadata": {
    "tags": []
   },
   "outputs": [
    {
     "name": "stdout",
     "output_type": "stream",
     "text": [
      "알트 + 엔터: 현재 cell 실행 후 다음 위치에 cell 삽입\n"
     ]
    }
   ],
   "source": [
    "print(\"알트 + 엔터: 현재 cell 실행 후 다음 위치에 cell 삽입\")"
   ]
  },
  {
   "cell_type": "code",
   "execution_count": 25,
   "id": "cb5890ed-27cc-4398-8a6e-60fc89d14fa2",
   "metadata": {
    "tags": []
   },
   "outputs": [
    {
     "ename": "SyntaxError",
     "evalue": "'(' was never closed (3091867121.py, line 2)",
     "output_type": "error",
     "traceback": [
      "\u001b[0;36m  Cell \u001b[0;32mIn[25], line 2\u001b[0;36m\u001b[0m\n\u001b[0;31m    print(2\u001b[0m\n\u001b[0m         ^\u001b[0m\n\u001b[0;31mSyntaxError\u001b[0m\u001b[0;31m:\u001b[0m '(' was never closed\n"
     ]
    }
   ],
   "source": [
    "print(1)\n",
    "print(2\n",
    "print(3)"
   ]
  },
  {
   "cell_type": "code",
   "execution_count": 27,
   "id": "e92677cd-6bbb-48be-af79-c8f9099fc4fd",
   "metadata": {
    "tags": []
   },
   "outputs": [
    {
     "name": "stdout",
     "output_type": "stream",
     "text": [
      "34\n"
     ]
    }
   ],
   "source": [
    "import random\n",
    "print(random.randint(1,45))"
   ]
  },
  {
   "cell_type": "code",
   "execution_count": 29,
   "id": "e12f7c29-a337-45e8-aeba-a73f1a91998d",
   "metadata": {
    "tags": []
   },
   "outputs": [
    {
     "data": {
      "text/plain": [
       "\u001b[0;31mSignature:\u001b[0m \u001b[0mrandom\u001b[0m\u001b[0;34m.\u001b[0m\u001b[0mrandint\u001b[0m\u001b[0;34m(\u001b[0m\u001b[0ma\u001b[0m\u001b[0;34m,\u001b[0m \u001b[0mb\u001b[0m\u001b[0;34m)\u001b[0m\u001b[0;34m\u001b[0m\u001b[0;34m\u001b[0m\u001b[0m\n",
       "\u001b[0;31mDocstring:\u001b[0m\n",
       "Return random integer in range [a, b], including both end points.\n",
       "        \n",
       "\u001b[0;31mSource:\u001b[0m   \n",
       "    \u001b[0;32mdef\u001b[0m \u001b[0mrandint\u001b[0m\u001b[0;34m(\u001b[0m\u001b[0mself\u001b[0m\u001b[0;34m,\u001b[0m \u001b[0ma\u001b[0m\u001b[0;34m,\u001b[0m \u001b[0mb\u001b[0m\u001b[0;34m)\u001b[0m\u001b[0;34m:\u001b[0m\u001b[0;34m\u001b[0m\n",
       "\u001b[0;34m\u001b[0m        \u001b[0;34m\"\"\"Return random integer in range [a, b], including both end points.\u001b[0m\n",
       "\u001b[0;34m        \"\"\"\u001b[0m\u001b[0;34m\u001b[0m\n",
       "\u001b[0;34m\u001b[0m\u001b[0;34m\u001b[0m\n",
       "\u001b[0;34m\u001b[0m        \u001b[0;32mreturn\u001b[0m \u001b[0mself\u001b[0m\u001b[0;34m.\u001b[0m\u001b[0mrandrange\u001b[0m\u001b[0;34m(\u001b[0m\u001b[0ma\u001b[0m\u001b[0;34m,\u001b[0m \u001b[0mb\u001b[0m\u001b[0;34m+\u001b[0m\u001b[0;36m1\u001b[0m\u001b[0;34m)\u001b[0m\u001b[0;34m\u001b[0m\u001b[0;34m\u001b[0m\u001b[0m\n",
       "\u001b[0;31mFile:\u001b[0m      ~/anaconda3/lib/python3.11/random.py\n",
       "\u001b[0;31mType:\u001b[0m      method"
      ]
     },
     "metadata": {},
     "output_type": "display_data"
    }
   ],
   "source": [
    "random.randint??"
   ]
  },
  {
   "cell_type": "code",
   "execution_count": null,
   "id": "7367f978-ccba-4a4c-87a8-837b2695b852",
   "metadata": {},
   "outputs": [],
   "source": []
  }
 ],
 "metadata": {
  "kernelspec": {
   "display_name": "Python 3 (ipykernel)",
   "language": "python",
   "name": "python3"
  },
  "language_info": {
   "codemirror_mode": {
    "name": "ipython",
    "version": 3
   },
   "file_extension": ".py",
   "mimetype": "text/x-python",
   "name": "python",
   "nbconvert_exporter": "python",
   "pygments_lexer": "ipython3",
   "version": "3.11.4"
  }
 },
 "nbformat": 4,
 "nbformat_minor": 5
}
