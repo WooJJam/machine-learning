{
 "cells": [
  {
   "cell_type": "markdown",
   "id": "ed339408-6475-4985-b4cc-c2d558d85b36",
   "metadata": {
    "tags": []
   },
   "source": [
    "# 영화 추천 시스템"
   ]
  },
  {
   "cell_type": "markdown",
   "id": "916b391a-33a7-46f3-9b60-db37489f3710",
   "metadata": {},
   "source": [
    "1. Demographic Filtering (인구통계학적 필터링)\n",
    "2. Content Based Filtering (컨텐츠 기반 필터링)\n",
    "3. Collaborative Filtering (협업 필터링)"
   ]
  },
  {
   "cell_type": "code",
   "execution_count": null,
   "id": "914e2dce-f285-4aee-9ce0-4317be4f26b9",
   "metadata": {},
   "outputs": [],
   "source": []
  },
  {
   "cell_type": "code",
   "execution_count": null,
   "id": "c2b154cd-6b6d-499e-ba18-e2c1e4f88de9",
   "metadata": {},
   "outputs": [],
   "source": []
  },
  {
   "cell_type": "code",
   "execution_count": null,
   "id": "76079779-ea13-4d1b-91c9-26f0bb1da3d2",
   "metadata": {},
   "outputs": [],
   "source": []
  },
  {
   "cell_type": "code",
   "execution_count": null,
   "id": "b5a15991-ab65-442e-8dcc-68146a86d0e2",
   "metadata": {},
   "outputs": [],
   "source": []
  },
  {
   "cell_type": "code",
   "execution_count": null,
   "id": "ad5c0804-86fb-41ed-9585-c13e14b6ee62",
   "metadata": {},
   "outputs": [],
   "source": []
  },
  {
   "cell_type": "code",
   "execution_count": null,
   "id": "f2cd81ab-5ce9-4997-9d0c-655904ae6993",
   "metadata": {},
   "outputs": [],
   "source": []
  }
 ],
 "metadata": {
  "kernelspec": {
   "display_name": "Python 3 (ipykernel)",
   "language": "python",
   "name": "python3"
  },
  "language_info": {
   "codemirror_mode": {
    "name": "ipython",
    "version": 3
   },
   "file_extension": ".py",
   "mimetype": "text/x-python",
   "name": "python",
   "nbconvert_exporter": "python",
   "pygments_lexer": "ipython3",
   "version": "3.11.4"
  }
 },
 "nbformat": 4,
 "nbformat_minor": 5
}
