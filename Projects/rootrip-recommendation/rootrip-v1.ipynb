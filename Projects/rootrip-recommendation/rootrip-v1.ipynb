{
 "cells": [
  {
   "cell_type": "markdown",
   "id": "f74cdfa6-eb65-4aaa-b2c8-437a4bad1652",
   "metadata": {},
   "source": [
    "# RooTrip 추천 시스템 v1"
   ]
  },
  {
   "cell_type": "code",
   "execution_count": 310,
   "id": "bc4cf13b-fc60-4e81-8cdc-b6518c2dce1e",
   "metadata": {},
   "outputs": [
    {
     "name": "stdout",
     "output_type": "stream",
     "text": [
      "   id                                    Hashtag        like      title\n",
      "0   1              [{\"tag\":\"어트랙션\"},{\"tag\":\"여행\"}]        1234    어트랙션 여행\n",
      "1   2                [{\"tag\":\"바다\"},{\"tag\":\"여행\"}]      124124      바다 여행\n",
      "2   3    [{\"tag\":\"산\"},{\"tag\":\"바다\"},{\"tag\":\"관광\"}]         211    산 바다 여행\n",
      "3   4  [{\"tag\":\"부산\"},{\"tag\":\"바다\"},{\"tag\":\"해운대\"}]  1232145123  부산 바다 해운대\n"
     ]
    }
   ],
   "source": [
    "import pandas as pd\n",
    "import numpy as np\n",
    "import os\n",
    "\n",
    "os.chdir('/Users/woojjam/Desktop/study/machine-learning/Projects/rootrip-recommendation')\n",
    "\n",
    "df1 = pd.read_csv('rootrip-board.csv')\n",
    "print(df1)"
   ]
  },
  {
   "cell_type": "code",
   "execution_count": 311,
   "id": "4eee6dd9-93c6-4a06-b5a2-9db0f61cb417",
   "metadata": {
    "tags": []
   },
   "outputs": [
    {
     "data": {
      "text/html": [
       "<div>\n",
       "<style scoped>\n",
       "    .dataframe tbody tr th:only-of-type {\n",
       "        vertical-align: middle;\n",
       "    }\n",
       "\n",
       "    .dataframe tbody tr th {\n",
       "        vertical-align: top;\n",
       "    }\n",
       "\n",
       "    .dataframe thead th {\n",
       "        text-align: right;\n",
       "    }\n",
       "</style>\n",
       "<table border=\"1\" class=\"dataframe\">\n",
       "  <thead>\n",
       "    <tr style=\"text-align: right;\">\n",
       "      <th></th>\n",
       "      <th>id</th>\n",
       "      <th>Hashtag</th>\n",
       "      <th>like</th>\n",
       "      <th>title</th>\n",
       "    </tr>\n",
       "  </thead>\n",
       "  <tbody>\n",
       "    <tr>\n",
       "      <th>0</th>\n",
       "      <td>1</td>\n",
       "      <td>[{\"tag\":\"어트랙션\"},{\"tag\":\"여행\"}]</td>\n",
       "      <td>1234</td>\n",
       "      <td>어트랙션 여행</td>\n",
       "    </tr>\n",
       "    <tr>\n",
       "      <th>1</th>\n",
       "      <td>2</td>\n",
       "      <td>[{\"tag\":\"바다\"},{\"tag\":\"여행\"}]</td>\n",
       "      <td>124124</td>\n",
       "      <td>바다 여행</td>\n",
       "    </tr>\n",
       "    <tr>\n",
       "      <th>2</th>\n",
       "      <td>3</td>\n",
       "      <td>[{\"tag\":\"산\"},{\"tag\":\"바다\"},{\"tag\":\"관광\"}]</td>\n",
       "      <td>211</td>\n",
       "      <td>산 바다 여행</td>\n",
       "    </tr>\n",
       "    <tr>\n",
       "      <th>3</th>\n",
       "      <td>4</td>\n",
       "      <td>[{\"tag\":\"부산\"},{\"tag\":\"바다\"},{\"tag\":\"해운대\"}]</td>\n",
       "      <td>1232145123</td>\n",
       "      <td>부산 바다 해운대</td>\n",
       "    </tr>\n",
       "  </tbody>\n",
       "</table>\n",
       "</div>"
      ],
      "text/plain": [
       "   id                                    Hashtag        like      title\n",
       "0   1              [{\"tag\":\"어트랙션\"},{\"tag\":\"여행\"}]        1234    어트랙션 여행\n",
       "1   2                [{\"tag\":\"바다\"},{\"tag\":\"여행\"}]      124124      바다 여행\n",
       "2   3    [{\"tag\":\"산\"},{\"tag\":\"바다\"},{\"tag\":\"관광\"}]         211    산 바다 여행\n",
       "3   4  [{\"tag\":\"부산\"},{\"tag\":\"바다\"},{\"tag\":\"해운대\"}]  1232145123  부산 바다 해운대"
      ]
     },
     "execution_count": 311,
     "metadata": {},
     "output_type": "execute_result"
    }
   ],
   "source": [
    "df1.head()"
   ]
  },
  {
   "cell_type": "code",
   "execution_count": 194,
   "id": "3be76e9e-923d-45d6-9d4d-29d9b214fbb9",
   "metadata": {
    "tags": []
   },
   "outputs": [
    {
     "data": {
      "text/plain": [
       "(4, 4)"
      ]
     },
     "execution_count": 194,
     "metadata": {},
     "output_type": "execute_result"
    }
   ],
   "source": [
    "df1.shape"
   ]
  },
  {
   "cell_type": "code",
   "execution_count": 312,
   "id": "dc424235-9cd6-4565-a5d1-c09004d10bcb",
   "metadata": {
    "tags": []
   },
   "outputs": [],
   "source": [
    "from ast import literal_eval\n",
    "df1['Hashtag'] = df1['Hashtag'].apply(literal_eval)"
   ]
  },
  {
   "cell_type": "code",
   "execution_count": 313,
   "id": "76dc6df2-7387-403c-92da-71c2cc573c8b",
   "metadata": {
    "tags": []
   },
   "outputs": [
    {
     "data": {
      "text/html": [
       "<div>\n",
       "<style scoped>\n",
       "    .dataframe tbody tr th:only-of-type {\n",
       "        vertical-align: middle;\n",
       "    }\n",
       "\n",
       "    .dataframe tbody tr th {\n",
       "        vertical-align: top;\n",
       "    }\n",
       "\n",
       "    .dataframe thead th {\n",
       "        text-align: right;\n",
       "    }\n",
       "</style>\n",
       "<table border=\"1\" class=\"dataframe\">\n",
       "  <thead>\n",
       "    <tr style=\"text-align: right;\">\n",
       "      <th></th>\n",
       "      <th>id</th>\n",
       "      <th>Hashtag</th>\n",
       "      <th>like</th>\n",
       "      <th>title</th>\n",
       "    </tr>\n",
       "  </thead>\n",
       "  <tbody>\n",
       "    <tr>\n",
       "      <th>0</th>\n",
       "      <td>1</td>\n",
       "      <td>[{'tag': '어트랙션'}, {'tag': '여행'}]</td>\n",
       "      <td>1234</td>\n",
       "      <td>어트랙션 여행</td>\n",
       "    </tr>\n",
       "    <tr>\n",
       "      <th>1</th>\n",
       "      <td>2</td>\n",
       "      <td>[{'tag': '바다'}, {'tag': '여행'}]</td>\n",
       "      <td>124124</td>\n",
       "      <td>바다 여행</td>\n",
       "    </tr>\n",
       "    <tr>\n",
       "      <th>2</th>\n",
       "      <td>3</td>\n",
       "      <td>[{'tag': '산'}, {'tag': '바다'}, {'tag': '관광'}]</td>\n",
       "      <td>211</td>\n",
       "      <td>산 바다 여행</td>\n",
       "    </tr>\n",
       "    <tr>\n",
       "      <th>3</th>\n",
       "      <td>4</td>\n",
       "      <td>[{'tag': '부산'}, {'tag': '바다'}, {'tag': '해운대'}]</td>\n",
       "      <td>1232145123</td>\n",
       "      <td>부산 바다 해운대</td>\n",
       "    </tr>\n",
       "  </tbody>\n",
       "</table>\n",
       "</div>"
      ],
      "text/plain": [
       "   id                                         Hashtag        like      title\n",
       "0   1                [{'tag': '어트랙션'}, {'tag': '여행'}]        1234    어트랙션 여행\n",
       "1   2                  [{'tag': '바다'}, {'tag': '여행'}]      124124      바다 여행\n",
       "2   3    [{'tag': '산'}, {'tag': '바다'}, {'tag': '관광'}]         211    산 바다 여행\n",
       "3   4  [{'tag': '부산'}, {'tag': '바다'}, {'tag': '해운대'}]  1232145123  부산 바다 해운대"
      ]
     },
     "execution_count": 313,
     "metadata": {},
     "output_type": "execute_result"
    }
   ],
   "source": [
    "df1"
   ]
  },
  {
   "cell_type": "code",
   "execution_count": 314,
   "id": "c9e95954-4de3-430f-970b-edadecdce09f",
   "metadata": {
    "tags": []
   },
   "outputs": [],
   "source": [
    "def get_value(x):\n",
    "    if isinstance(x, list):\n",
    "        hashtag = [i['tag'] for i in x]\n",
    "        return hashtag\n",
    "    return []"
   ]
  },
  {
   "cell_type": "code",
   "execution_count": 315,
   "id": "ac6b0078-fd92-4028-be15-335fa94cc406",
   "metadata": {
    "tags": []
   },
   "outputs": [],
   "source": [
    "df1['Hashtag'] = df1['Hashtag'].apply(get_value)\n"
   ]
  },
  {
   "cell_type": "code",
   "execution_count": 316,
   "id": "2925cef5-5b2c-4dc6-9632-0d0a8d6f8e5b",
   "metadata": {
    "tags": []
   },
   "outputs": [
    {
     "data": {
      "text/html": [
       "<div>\n",
       "<style scoped>\n",
       "    .dataframe tbody tr th:only-of-type {\n",
       "        vertical-align: middle;\n",
       "    }\n",
       "\n",
       "    .dataframe tbody tr th {\n",
       "        vertical-align: top;\n",
       "    }\n",
       "\n",
       "    .dataframe thead th {\n",
       "        text-align: right;\n",
       "    }\n",
       "</style>\n",
       "<table border=\"1\" class=\"dataframe\">\n",
       "  <thead>\n",
       "    <tr style=\"text-align: right;\">\n",
       "      <th></th>\n",
       "      <th>id</th>\n",
       "      <th>Hashtag</th>\n",
       "      <th>like</th>\n",
       "      <th>title</th>\n",
       "    </tr>\n",
       "  </thead>\n",
       "  <tbody>\n",
       "    <tr>\n",
       "      <th>0</th>\n",
       "      <td>1</td>\n",
       "      <td>[어트랙션, 여행]</td>\n",
       "      <td>1234</td>\n",
       "      <td>어트랙션 여행</td>\n",
       "    </tr>\n",
       "    <tr>\n",
       "      <th>1</th>\n",
       "      <td>2</td>\n",
       "      <td>[바다, 여행]</td>\n",
       "      <td>124124</td>\n",
       "      <td>바다 여행</td>\n",
       "    </tr>\n",
       "    <tr>\n",
       "      <th>2</th>\n",
       "      <td>3</td>\n",
       "      <td>[산, 바다, 관광]</td>\n",
       "      <td>211</td>\n",
       "      <td>산 바다 여행</td>\n",
       "    </tr>\n",
       "    <tr>\n",
       "      <th>3</th>\n",
       "      <td>4</td>\n",
       "      <td>[부산, 바다, 해운대]</td>\n",
       "      <td>1232145123</td>\n",
       "      <td>부산 바다 해운대</td>\n",
       "    </tr>\n",
       "  </tbody>\n",
       "</table>\n",
       "</div>"
      ],
      "text/plain": [
       "   id        Hashtag        like      title\n",
       "0   1     [어트랙션, 여행]        1234    어트랙션 여행\n",
       "1   2       [바다, 여행]      124124      바다 여행\n",
       "2   3    [산, 바다, 관광]         211    산 바다 여행\n",
       "3   4  [부산, 바다, 해운대]  1232145123  부산 바다 해운대"
      ]
     },
     "execution_count": 316,
     "metadata": {},
     "output_type": "execute_result"
    }
   ],
   "source": [
    "df1"
   ]
  },
  {
   "cell_type": "code",
   "execution_count": 318,
   "id": "4d6e2e80-fc5c-4860-8584-47d4556782c1",
   "metadata": {
    "tags": []
   },
   "outputs": [],
   "source": [
    "def create_soup(x):\n",
    "    hashtag = ' '.join(x['Hashtag']) if x['Hashtag'] else ''\n",
    "    return hashtag"
   ]
  },
  {
   "cell_type": "code",
   "execution_count": 326,
   "id": "ebbb4bc7-1827-4cf8-80a0-b6fdc37cb9b2",
   "metadata": {
    "tags": []
   },
   "outputs": [
    {
     "data": {
      "text/plain": [
       "(0      어트랙션 여행\n",
       " 1        바다 여행\n",
       " 2      산 바다 관광\n",
       " 3    부산 바다 해운대\n",
       " Name: soup, dtype: object,\n",
       " 0      어트랙션 여행\n",
       " 1        바다 여행\n",
       " 2      산 바다 관광\n",
       " 3    부산 바다 해운대\n",
       " Name: Hashtag, dtype: object)"
      ]
     },
     "execution_count": 326,
     "metadata": {},
     "output_type": "execute_result"
    }
   ],
   "source": [
    "df1['soup'] = df1.apply(create_soup, axis=1)\n",
    "df1['Hashtag'] = df1.apply(create_soup, axis=1)\n",
    "df1['soup'], df1['Hashtag']"
   ]
  },
  {
   "cell_type": "code",
   "execution_count": 328,
   "id": "d6469abd-1d0f-4120-84e6-76dea3f413fe",
   "metadata": {
    "tags": []
   },
   "outputs": [
    {
     "data": {
      "text/plain": [
       "<4x6 sparse matrix of type '<class 'numpy.int64'>'\n",
       "\twith 9 stored elements in Compressed Sparse Row format>"
      ]
     },
     "execution_count": 328,
     "metadata": {},
     "output_type": "execute_result"
    }
   ],
   "source": [
    "from sklearn.feature_extraction.text import CountVectorizer\n",
    "\n",
    "count = CountVectorizer()\n",
    "count_matrix = count.fit_transform(df1['soup'])\n",
    "count_matrix"
   ]
  },
  {
   "cell_type": "code",
   "execution_count": 329,
   "id": "d782fc53-2f55-4d9b-adb9-ec28f45ce7b6",
   "metadata": {
    "tags": []
   },
   "outputs": [
    {
     "data": {
      "text/plain": [
       "array([[1.        , 0.5       , 0.        , 0.        ],\n",
       "       [0.5       , 1.        , 0.5       , 0.40824829],\n",
       "       [0.        , 0.5       , 1.        , 0.40824829],\n",
       "       [0.        , 0.40824829, 0.40824829, 1.        ]])"
      ]
     },
     "execution_count": 329,
     "metadata": {},
     "output_type": "execute_result"
    }
   ],
   "source": [
    "from sklearn.metrics.pairwise import cosine_similarity\n",
    "cosine_sim2 = cosine_similarity(count_matrix, count_matrix)\n",
    "cosine_sim2"
   ]
  },
  {
   "cell_type": "code",
   "execution_count": 330,
   "id": "9ca1629f-333f-4d6b-808d-71c44f058165",
   "metadata": {
    "tags": []
   },
   "outputs": [
    {
     "name": "stdout",
     "output_type": "stream",
     "text": [
      "Hashtag\n",
      "어트랙션 여행      0\n",
      "바다 여행        1\n",
      "산 바다 관광      2\n",
      "부산 바다 해운대    3\n",
      "dtype: int64\n"
     ]
    }
   ],
   "source": [
    "df1.reset_index()\n",
    "indices = pd.Series(df1.index, index=df1['Hashtag']).drop_duplicates()\n",
    "print(indices)"
   ]
  },
  {
   "cell_type": "code",
   "execution_count": 331,
   "id": "fb747834-34d0-4560-9853-fb4e178bc890",
   "metadata": {
    "tags": []
   },
   "outputs": [],
   "source": [
    "user_hashtag = '부산 바다 해운대'"
   ]
  },
  {
   "cell_type": "code",
   "execution_count": 332,
   "id": "fb75e68c-db0b-4426-b048-2f86ca44b4ca",
   "metadata": {
    "tags": []
   },
   "outputs": [],
   "source": [
    "# 영화의 제목을 입력받으면 코사인 유사도를 통해서 가장 유사도가 높은 상위 10개으 영화 목록 반환\n",
    "def get_recommendations(user_hashtag, cosine_sim=cosine_sim):\n",
    "    # 영화 제목을 통해서 전체 데이터 기준 그 영화의 index 값을 얻기\n",
    "    idx = indices[user_hashtag]\n",
    "    print(idx)\n",
    "    sim_scores = list(enumerate(cosine_sim[idx]))\n",
    "\n",
    "    \n",
    "    # 코사인 유사도 매트릭스 (cosine_sim)에서 idx에 해당하는 데이터를 (idx, 유사도) 형태로 얻기\n",
    "    # sim_scores = list(enumerate(cosine_sim[idx]))\n",
    "    \n",
    "    # 코사인 유사도 기준으로 내림차순 정렬\n",
    "    sim_scores = sorted(sim_scores, key=lambda x: x[1], reverse=True)\n",
    "    \n",
    "    # 자기 자신을 제외한 10개의 추천 영화를 슬라이싱\n",
    "    sim_scores = sim_scores[:3]\n",
    "    print(sim_scores)\n",
    "    # 추천 영화 목록 10개의 인덱스 정보 추출\n",
    "    hashtag_indices = [i[0] for i in sim_scores]\n",
    "    \n",
    "    # 인덱스 정보를 통해 영화 제목 추출\n",
    "    return df1['Hashtag'].iloc[hashtag_indices]\n"
   ]
  },
  {
   "cell_type": "code",
   "execution_count": 333,
   "id": "00bc8677-e2f5-4edd-a527-62aadb82cb83",
   "metadata": {
    "tags": []
   },
   "outputs": [
    {
     "name": "stdout",
     "output_type": "stream",
     "text": [
      "3\n",
      "[(3, 1.0000000000000002), (1, 0.408248290463863), (2, 0.408248290463863)]\n",
      "3    부산 바다 해운대\n",
      "1        바다 여행\n",
      "2      산 바다 관광\n",
      "Name: Hashtag, dtype: object\n"
     ]
    }
   ],
   "source": [
    "recommendation = get_recommendations(user_hashtag, cosine_sim=cosine_sim2)\n",
    "print(recommendation)"
   ]
  }
 ],
 "metadata": {
  "kernelspec": {
   "display_name": "Python 3 (ipykernel)",
   "language": "python",
   "name": "python3"
  },
  "language_info": {
   "codemirror_mode": {
    "name": "ipython",
    "version": 3
   },
   "file_extension": ".py",
   "mimetype": "text/x-python",
   "name": "python",
   "nbconvert_exporter": "python",
   "pygments_lexer": "ipython3",
   "version": "3.11.4"
  }
 },
 "nbformat": 4,
 "nbformat_minor": 5
}
