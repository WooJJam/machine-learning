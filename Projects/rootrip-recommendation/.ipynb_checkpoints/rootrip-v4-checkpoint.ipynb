{
 "cells": [
  {
   "cell_type": "markdown",
   "id": "572ba893-315d-47f2-b405-dd31373e0d77",
   "metadata": {},
   "source": [
    "# RooTrip 추천 시스템 - V4\n",
    "### - 사용자가 해시태그별 좋아요를 누른 숫자를 바탕으로 가중"
   ]
  },
  {
   "cell_type": "code",
   "execution_count": 106,
   "id": "51cb08e2-801e-4f97-a40d-2159615b53f8",
   "metadata": {
    "tags": []
   },
   "outputs": [
    {
     "name": "stdout",
     "output_type": "stream",
     "text": [
      "0       [{'tag': '액티비티'}, {'tag': '여행'}, {'tag': '모험'}]\n",
      "1         [{'tag': '바다'}, {'tag': '여행'}, {'tag': '휴양'}]\n",
      "2          [{'tag': '산'}, {'tag': '자연'}, {'tag': '풍경'}]\n",
      "3         [{'tag': '도시'}, {'tag': '음식'}, {'tag': '여행'}]\n",
      "4        [{'tag': '체험'}, {'tag': '데이트'}, {'tag': '음식'}]\n",
      "5     [{'tag': '관광'}, {'tag': '문화'}, {'tag': '자연'}, ...\n",
      "6          [{'tag': '산'}, {'tag': '여행'}, {'tag': '자연'}]\n",
      "7         [{'tag': '바다'}, {'tag': '여행'}, {'tag': '체험'}]\n",
      "8     [{'tag': '관광'}, {'tag': '바다'}, {'tag': '액티비티'}...\n",
      "9       [{'tag': '액티비티'}, {'tag': '휴양'}, {'tag': '도시'}]\n",
      "10    [{'tag': '음식'}, {'tag': '관광'}, {'tag': '여행'}, ...\n",
      "Name: hashtag, dtype: object\n",
      "    id  ...          weights\n",
      "0    1  ...       100 1200 0\n",
      "1    2  ...    200 1200 1000\n",
      "2    3  ...            0 1 4\n",
      "3    4  ...      2000 0 1200\n",
      "4    5  ...            0 0 0\n",
      "5    6  ...     0 0 1 0 1200\n",
      "6    7  ...         0 1200 1\n",
      "7    8  ...       200 1200 0\n",
      "8    9  ...    0 200 100 4 0\n",
      "9   10  ...    100 1000 2000\n",
      "10  11  ...  0 0 1200 1 1000\n",
      "\n",
      "[11 rows x 5 columns]\n",
      "  (0, 0)\t1\n",
      "  (0, 1)\t1\n",
      "  (0, 2)\t1\n",
      "  (0, 3)\t1\n",
      "  (0, 4)\t1\n",
      "추천 게시글:\n",
      "바다 여행 (게시글 ID: 2.0)\n",
      "nan (게시글 ID: nan)\n",
      "액티비티 여행 모험 (게시글 ID: 1.0)\n",
      "부산 바다 해운대 (게시글 ID: 4.0)\n"
     ]
    }
   ],
   "source": [
    "import pandas as pd\n",
    "from sklearn.feature_extraction.text import CountVectorizer\n",
    "from sklearn.metrics.pairwise import cosine_similarity\n",
    "\n",
    "# 데이터프레임 생성\n",
    "# data = {\n",
    "#     'id': [1, 2, 3, 4, 5, 6],\n",
    "#     'hashtag': [\n",
    "#         [{\"tag\": \"액티비티\"}, {\"tag\": \"여행\"}, {\"tag\": \"모험\"}],\n",
    "#         [{\"tag\": \"바다\"}, {\"tag\": \"여행\"}, {\"tag\": \"휴양\"}],\n",
    "#         [{\"tag\": \"산\"}, {\"tag\": \"자연\"}, {\"tag\": \"풍경\"}],\n",
    "#         [{\"tag\": \"도시\"}, {\"tag\": \"음식\"}, {\"tag\": \"여행\"}],\n",
    "#         [{\"tag\": \"체험\"}, {\"tag\": \"데이트\"}, {\"tag\": \"음식\"}],\n",
    "#         [{\"tag\": \"관광\"}, {\"tag\": \"문화\"}, {\"tag\": \"자연\"}, {\"tag\": \"산\"}, {\"tag\": \"여행\"}],\n",
    "# \n",
    "#     ],\n",
    "#     'board_id': [1, 2, 3, 4, 5, 6],\n",
    "#     'title': ['어트랙션 여행', '바다 여행', '산 바다 관광', '부산 바다 해운대', 'aa', 'bb']\n",
    "# }\n",
    "\n",
    "data = {\n",
    "    'id': [1, 2, 3, 4, 5, 6,7,8,9],\n",
    "    'hashtag' : [\n",
    "        [{\"tag\":\"액티비티\"},{\"tag\":\"여행\"},{\"tag\":\"모험\"}],\n",
    "        [{\"tag\":\"바다\"},{\"tag\":\"여행\"},{\"tag\":\"휴양\"}],\n",
    "        [{\"tag\":\"산\"},{\"tag\":\"자연\"},{\"tag\":\"풍경\"}],\n",
    "        [{\"tag\":\"도시\"},{\"tag\":\"음식\"},{\"tag\":\"여행\"}],\n",
    "        [{\"tag\":\"체험\"},{\"tag\":\"데이트\"},{\"tag\":\"음식\"}],\n",
    "        [{\"tag\":\"관광\"},{\"tag\":\"문화\"},{\"tag\":\"자연\"},{\"tag\":\"산\"},{\"tag\":\"여행\"}],\n",
    "        [{\"tag\": \"산\"}, {\"tag\": \"여행\"}, {\"tag\":\"자연\"}],\n",
    "        [{\"tag\": \"바다\"}, {\"tag\": \"여행\"}, {\"tag\": \"체험\"}],\n",
    "        [{\"tag\": \"관광\"}, {\"tag\": \"바다\"}, {\"tag\": \"액티비티\"}, {\"tag\": \"풍경\"}, {\"tag\": \"모험\"}]\n",
    "    ],\n",
    "    'board_id': [1, 2, 3, 4, 5, 6, 7,8,9],\n",
    "    'title': ['어트랙션 여행', '바다 여행', '산 바다 관광', '부산 바다 해운대', 'aa', 'bb', 'Cc', 'dd', 'eq']\n",
    "}\n",
    "\n",
    "df1 = pd.DataFrame(data)\n",
    "# print(df1)\n",
    "\n",
    "df1= pd.read_csv('rootrip-board-sample.csv')\n",
    "df1['hashtag'] = df1['hashtag'].apply(json.loads)\n",
    "print(df1['hashtag'])\n",
    "\n",
    "user_likes = [100, 1200, 200, 0, 0, 1, 0, 0, 2000, 0, 1000, 4, 0, 0]\n",
    "          # 액티비티,  여행,   바다, 산,  관광, 자연,음식,문화,도시,모험, 휴양, 풍경, 체험, 데이트\n",
    "tag_mapping = {\n",
    "    \"액티비티\": 0,\n",
    "    \"여행\": 1,\n",
    "    \"바다\": 2,\n",
    "    \"산\": 3,\n",
    "    \"관광\": 4,\n",
    "    \"자연\": 5,\n",
    "    \"음식\": 6,\n",
    "    \"문화\": 7,\n",
    "    \"도시\": 8,\n",
    "    \"모험\": 9,\n",
    "    \"휴양\": 10,\n",
    "    \"풍경\": 11,\n",
    "    \"체험\": 12,\n",
    "    \"데이트\": 13\n",
    "}\n",
    "\n",
    "def calculate_weights(tags, user_likes):\n",
    "    weights = [user_likes[tag_mapping.get(tag['tag'], 0)] for tag in tags]\n",
    "    return ' '.join([str(weight) for weight in weights])\n",
    "\n",
    "# 각 게시물에 대해 가중치를 계산하여 'weights' 열에 저장\n",
    "df1['weights'] = df1['hashtag'].apply(calculate_weights, user_likes=user_likes)\n",
    "print(df1)\n",
    "\n",
    "# CountVectorizer를 사용하여 단어 벡터화\n",
    "count = CountVectorizer()\n",
    "count_matrix = count.fit_transform(df1['weights'])\n",
    "\n",
    "# 코사인 유사도 매트릭스 계산\n",
    "cosine_sim = cosine_similarity(count_matrix, count_matrix)\n",
    "\n",
    "# 사용자 입력 가중치와 각 행의 가중치 간의 유사도 계산\n",
    "user_weight_vector = count.transform([' '.join([str(user_likes[i]) for i in range(len(user_likes))])])\n",
    "print(user_weight_vector)\n",
    "similarities = cosine_similarity(user_weight_vector, count_matrix)\n",
    "\n",
    "# 유사도와 게시글 제목을 매핑\n",
    "similarities_with_titles = list(enumerate(similarities[0]))\n",
    "similarities_with_titles = sorted(similarities_with_titles, key=lambda x: x[1], reverse=True)\n",
    "\n",
    "# 가장 유사한 게시글 추출\n",
    "recommended_posts = []\n",
    "for i in range(4):  # 상위 3개 게시글 추천\n",
    "    post_idx = similarities_with_titles[i][0]\n",
    "    recommended_posts.append((df1['content'].iloc[post_idx], df1['board_id'].iloc[post_idx]))\n",
    "\n",
    "# 사용자에게 추천 목록을 출력\n",
    "print(\"추천 게시글:\")\n",
    "for post_title, post_board_id in recommended_posts:\n",
    "    print(f\"{post_title} (게시글 ID: {post_board_id})\")\n"
   ]
  },
  {
   "cell_type": "code",
   "execution_count": null,
   "id": "2ac4b385-7e09-4ea5-b361-98f715af9e69",
   "metadata": {},
   "outputs": [],
   "source": []
  },
  {
   "cell_type": "code",
   "execution_count": null,
   "id": "7b2960b0-23b5-46a9-bada-0233b19a14c1",
   "metadata": {},
   "outputs": [],
   "source": []
  },
  {
   "cell_type": "code",
   "execution_count": null,
   "id": "72f125f4-cc12-4194-8be9-30cb154193c8",
   "metadata": {},
   "outputs": [],
   "source": []
  },
  {
   "cell_type": "code",
   "execution_count": null,
   "id": "ec031e10-8355-47f6-9bd4-48fb08377b80",
   "metadata": {},
   "outputs": [],
   "source": []
  },
  {
   "cell_type": "code",
   "execution_count": 31,
   "id": "c8f9f301-c5d7-4ed5-9bcd-6a4af84a89bf",
   "metadata": {
    "tags": []
   },
   "outputs": [],
   "source": [
    "import pickle"
   ]
  },
  {
   "cell_type": "code",
   "execution_count": 19,
   "id": "1c848f35-5bf6-4219-b7f4-5325a8cb219c",
   "metadata": {
    "tags": []
   },
   "outputs": [
    {
     "data": {
      "text/html": [
       "<div>\n",
       "<style scoped>\n",
       "    .dataframe tbody tr th:only-of-type {\n",
       "        vertical-align: middle;\n",
       "    }\n",
       "\n",
       "    .dataframe tbody tr th {\n",
       "        vertical-align: top;\n",
       "    }\n",
       "\n",
       "    .dataframe thead th {\n",
       "        text-align: right;\n",
       "    }\n",
       "</style>\n",
       "<table border=\"1\" class=\"dataframe\">\n",
       "  <thead>\n",
       "    <tr style=\"text-align: right;\">\n",
       "      <th></th>\n",
       "      <th>id</th>\n",
       "      <th>hashtag</th>\n",
       "      <th>board_id</th>\n",
       "      <th>content</th>\n",
       "      <th>weights</th>\n",
       "    </tr>\n",
       "  </thead>\n",
       "  <tbody>\n",
       "    <tr>\n",
       "      <th>0</th>\n",
       "      <td>1</td>\n",
       "      <td>[{\"tag\":\"액티비티\"},{\"tag\":\"여행\"},{\"tag\":\"모험\"}]</td>\n",
       "      <td>1</td>\n",
       "      <td>액티비티 여행 모험</td>\n",
       "      <td>12314 12314 12314 12314 12314 12314 12314 1231...</td>\n",
       "    </tr>\n",
       "    <tr>\n",
       "      <th>1</th>\n",
       "      <td>2</td>\n",
       "      <td>[{\"tag\":\"바다\"},{\"tag\":\"여행\"},{\"tag\":\"휴양\"}]</td>\n",
       "      <td>2</td>\n",
       "      <td>바다 여행</td>\n",
       "      <td>12314 12314 12314 12314 12314 12314 12314 1231...</td>\n",
       "    </tr>\n",
       "    <tr>\n",
       "      <th>2</th>\n",
       "      <td>3</td>\n",
       "      <td>[{\"tag\":\"산\"},{\"tag\":\"자연\"},{\"tag\":\"풍경\"}]</td>\n",
       "      <td>3</td>\n",
       "      <td>산 자연 풍경</td>\n",
       "      <td>12314 12314 12314 12314 12314 12314 12314 1231...</td>\n",
       "    </tr>\n",
       "    <tr>\n",
       "      <th>3</th>\n",
       "      <td>4</td>\n",
       "      <td>[{\"tag\":\"도시\"},{\"tag\":\"음식\"},{\"tag\":\"여행\"}]</td>\n",
       "      <td>4</td>\n",
       "      <td>부산 바다 해운대</td>\n",
       "      <td>12314 12314 12314 12314 12314 12314 12314 1231...</td>\n",
       "    </tr>\n",
       "    <tr>\n",
       "      <th>4</th>\n",
       "      <td>5</td>\n",
       "      <td>[{\"tag\":\"체험\"},{\"tag\":\"데이트\"},{\"tag\":\"음식\"}]</td>\n",
       "      <td>5</td>\n",
       "      <td>체험 데이트 음식</td>\n",
       "      <td>12314 12314 12314 12314 12314 12314 12314 1231...</td>\n",
       "    </tr>\n",
       "    <tr>\n",
       "      <th>5</th>\n",
       "      <td>6</td>\n",
       "      <td>[{\"tag\":\"관광\"},{\"tag\":\"문화\"},{\"tag\":\"자연\"},{\"tag\"...</td>\n",
       "      <td>6</td>\n",
       "      <td>관광 문화 자연 산 여행</td>\n",
       "      <td>12314 12314 12314 12314 12314 12314 12314 1231...</td>\n",
       "    </tr>\n",
       "  </tbody>\n",
       "</table>\n",
       "</div>"
      ],
      "text/plain": [
       "   id  ...                                            weights\n",
       "0   1  ...  12314 12314 12314 12314 12314 12314 12314 1231...\n",
       "1   2  ...  12314 12314 12314 12314 12314 12314 12314 1231...\n",
       "2   3  ...  12314 12314 12314 12314 12314 12314 12314 1231...\n",
       "3   4  ...  12314 12314 12314 12314 12314 12314 12314 1231...\n",
       "4   5  ...  12314 12314 12314 12314 12314 12314 12314 1231...\n",
       "5   6  ...  12314 12314 12314 12314 12314 12314 12314 1231...\n",
       "\n",
       "[6 rows x 5 columns]"
      ]
     },
     "execution_count": 19,
     "metadata": {},
     "output_type": "execute_result"
    }
   ],
   "source": [
    "df1.head(10)"
   ]
  },
  {
   "cell_type": "code",
   "execution_count": null,
   "id": "f7df17b8-dd88-43fa-86d5-7a4e2b59bb0c",
   "metadata": {},
   "outputs": [],
   "source": []
  },
  {
   "cell_type": "code",
   "execution_count": null,
   "id": "48433158-749d-425e-b681-e1a61247c2cc",
   "metadata": {},
   "outputs": [],
   "source": []
  },
  {
   "cell_type": "code",
   "execution_count": 11,
   "id": "2261a149-4215-495f-ae94-04df624a26f2",
   "metadata": {
    "tags": []
   },
   "outputs": [
    {
     "data": {
      "text/html": [
       "<div>\n",
       "<style scoped>\n",
       "    .dataframe tbody tr th:only-of-type {\n",
       "        vertical-align: middle;\n",
       "    }\n",
       "\n",
       "    .dataframe tbody tr th {\n",
       "        vertical-align: top;\n",
       "    }\n",
       "\n",
       "    .dataframe thead th {\n",
       "        text-align: right;\n",
       "    }\n",
       "</style>\n",
       "<table border=\"1\" class=\"dataframe\">\n",
       "  <thead>\n",
       "    <tr style=\"text-align: right;\">\n",
       "      <th></th>\n",
       "      <th>Hashtag</th>\n",
       "      <th>board_id</th>\n",
       "    </tr>\n",
       "  </thead>\n",
       "  <tbody>\n",
       "    <tr>\n",
       "      <th>0</th>\n",
       "      <td>[{'tag': '어트랙션'}, {'tag': '여행'}]</td>\n",
       "      <td>1</td>\n",
       "    </tr>\n",
       "    <tr>\n",
       "      <th>1</th>\n",
       "      <td>[{'tag': '바다'}, {'tag': '여행'}]</td>\n",
       "      <td>2</td>\n",
       "    </tr>\n",
       "    <tr>\n",
       "      <th>2</th>\n",
       "      <td>[{'tag': '산'}, {'tag': '바다'}, {'tag': '관광'}]</td>\n",
       "      <td>3</td>\n",
       "    </tr>\n",
       "    <tr>\n",
       "      <th>3</th>\n",
       "      <td>[{'tag': '부산'}, {'tag': '바다'}, {'tag': '해운대'}]</td>\n",
       "      <td>4</td>\n",
       "    </tr>\n",
       "  </tbody>\n",
       "</table>\n",
       "</div>"
      ],
      "text/plain": [
       "                                          Hashtag  board_id\n",
       "0                [{'tag': '어트랙션'}, {'tag': '여행'}]         1\n",
       "1                  [{'tag': '바다'}, {'tag': '여행'}]         2\n",
       "2    [{'tag': '산'}, {'tag': '바다'}, {'tag': '관광'}]         3\n",
       "3  [{'tag': '부산'}, {'tag': '바다'}, {'tag': '해운대'}]         4"
      ]
     },
     "execution_count": 11,
     "metadata": {},
     "output_type": "execute_result"
    }
   ],
   "source": [
    "recommend_borad = df1[['Hashtag','board_id']].copy()\n",
    "recommend_borad"
   ]
  },
  {
   "cell_type": "code",
   "execution_count": 13,
   "id": "1b8cf6be-8707-45fe-8b54-f26fb34e14af",
   "metadata": {
    "tags": []
   },
   "outputs": [],
   "source": [
    "pickle.dump(recommend_borad, open('board.pickle','wb'))"
   ]
  },
  {
   "cell_type": "code",
   "execution_count": 15,
   "id": "558554b7-e2a3-4601-ae74-64868fc46de5",
   "metadata": {
    "tags": []
   },
   "outputs": [],
   "source": [
    "pickle.dump(cosine_sim, open('cosine_sim.pickle','wb'))"
   ]
  }
 ],
 "metadata": {
  "kernelspec": {
   "display_name": "Python 3 (ipykernel)",
   "language": "python",
   "name": "python3"
  },
  "language_info": {
   "codemirror_mode": {
    "name": "ipython",
    "version": 3
   },
   "file_extension": ".py",
   "mimetype": "text/x-python",
   "name": "python",
   "nbconvert_exporter": "python",
   "pygments_lexer": "ipython3",
   "version": "3.11.4"
  }
 },
 "nbformat": 4,
 "nbformat_minor": 5
}
