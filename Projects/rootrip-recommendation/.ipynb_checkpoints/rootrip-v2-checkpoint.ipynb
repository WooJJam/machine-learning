{
 "cells": [
  {
   "cell_type": "markdown",
   "id": "cb521d5c-5c2d-4147-a76e-86bd6bf91fbf",
   "metadata": {},
   "source": [
    "# RooTrip 추천 시스템 v2\n",
    "### - 사용자가 관심있는 Hashtag들을 입력하여 게시글 추천"
   ]
  },
  {
   "cell_type": "code",
   "execution_count": 19,
   "id": "cabdede4-d3a4-4b2f-80c4-193962e52545",
   "metadata": {},
   "outputs": [
    {
     "name": "stdout",
     "output_type": "stream",
     "text": [
      "   id                                    Hashtag        like      title\n",
      "0   1              [{\"tag\":\"어트랙션\"},{\"tag\":\"여행\"}]        1234    어트랙션 여행\n",
      "1   2                [{\"tag\":\"바다\"},{\"tag\":\"여행\"}]      124124      바다 여행\n",
      "2   3    [{\"tag\":\"산\"},{\"tag\":\"바다\"},{\"tag\":\"관광\"}]         211    산 바다 여행\n",
      "3   4  [{\"tag\":\"부산\"},{\"tag\":\"바다\"},{\"tag\":\"해운대\"}]  1232145123  부산 바다 해운대\n"
     ]
    }
   ],
   "source": [
    "import pandas as pd\n",
    "import json\n",
    "from sklearn.feature_extraction.text import CountVectorizer\n",
    "from sklearn.metrics.pairwise import cosine_similarity\n",
    "\n",
    "# 데이터프레임 생성 (예시)\n",
    "# data = {\n",
    "#     'id': [1, 2, 3, 4],\n",
    "#     'Hashtag': [\n",
    "#         '[{\"tag\":\"어트랙션\"},{\"tag\":\"여행\"}]',\n",
    "#         '[{\"tag\":\"바다\"},{\"tag\":\"여행\"}]',\n",
    "#         '[{\"tag\":\"산\"},{\"tag\":\"바다\"},{\"tag\":\"관광\"}]',\n",
    "#         '[{\"tag\":\"부산\"},{\"tag\":\"바다\"},{\"tag\":\"해운대\"}]'\n",
    "#     ],\n",
    "#     'like': [1234, 124124, 211, 1232145123],\n",
    "#     'title': ['어트랙션 여행', '바다 여행', '산 바다 여행', '부산 바다 해운대']\n",
    "# }\n",
    "\n",
    "# RooTrip 추천 시스템 v2\n",
    "import pandas as pd\n",
    "import numpy as np\n",
    "import json\n",
    "import os\n",
    "\n",
    "# os.chdir('/Users/woojjam/Desktop/study/machine-learning/Projects/rootrip-recommendation')\n",
    "\n",
    "df1 = pd.read_csv('rootrip-board.csv')\n",
    "\n",
    "# df1 = pd.DataFrame(data)\n",
    "print(df1)"
   ]
  },
  {
   "cell_type": "code",
   "execution_count": 5,
   "id": "15b21786-4731-4e71-a133-893ec97e97de",
   "metadata": {
    "tags": []
   },
   "outputs": [],
   "source": [
    "# JSON 데이터를 파이썬 객체로 변환\n",
    "df1['Hashtag'] = df1['Hashtag'].apply(lambda x: json.loads(x.replace('\\'', '\\\"')))\n",
    "\n",
    "# 사용자 입력 해시태그\n",
    "user_hashtags = '부산, 여행, 어트랙션'.split(', ')"
   ]
  },
  {
   "cell_type": "code",
   "execution_count": 6,
   "id": "2800baba-a3e9-484c-8c56-be52458bb607",
   "metadata": {},
   "outputs": [],
   "source": [
    "# Hashtag 열을 정리하여 'soup' 열 생성\n",
    "def create_soup(x):\n",
    "    return ' '.join(tag['tag'] for tag in x)"
   ]
  },
  {
   "cell_type": "code",
   "execution_count": 9,
   "id": "6ef87e60-9ac7-40dd-a5f0-a103e83a839c",
   "metadata": {},
   "outputs": [
    {
     "name": "stdout",
     "output_type": "stream",
     "text": [
      "   id                                         Hashtag        like      title  \\\n",
      "0   1                [{'tag': '어트랙션'}, {'tag': '여행'}]        1234    어트랙션 여행   \n",
      "1   2                  [{'tag': '바다'}, {'tag': '여행'}]      124124      바다 여행   \n",
      "2   3    [{'tag': '산'}, {'tag': '바다'}, {'tag': '관광'}]         211    산 바다 여행   \n",
      "3   4  [{'tag': '부산'}, {'tag': '바다'}, {'tag': '해운대'}]  1232145123  부산 바다 해운대   \n",
      "\n",
      "        soup  \n",
      "0    어트랙션 여행  \n",
      "1      바다 여행  \n",
      "2    산 바다 관광  \n",
      "3  부산 바다 해운대  \n"
     ]
    }
   ],
   "source": [
    "df1['soup'] = df1['Hashtag'].apply(create_soup)\n",
    "# print(df1['soup'])\n",
    "print(df1)"
   ]
  },
  {
   "cell_type": "code",
   "execution_count": 13,
   "id": "7186d2a1-98d8-438f-95ac-06853f4cea1c",
   "metadata": {
    "tags": []
   },
   "outputs": [
    {
     "name": "stdout",
     "output_type": "stream",
     "text": [
      "  (0, 3)\t1\n",
      "  (0, 4)\t1\n",
      "  (1, 4)\t1\n",
      "  (1, 1)\t1\n",
      "  (2, 1)\t1\n",
      "  (2, 0)\t1\n",
      "  (3, 1)\t1\n",
      "  (3, 2)\t1\n",
      "  (3, 5)\t1\n"
     ]
    }
   ],
   "source": [
    "# CountVectorizer를 사용하여 단어 벡터화\n",
    "count = CountVectorizer()\n",
    "count_matrix = count.fit_transform(df1['soup'])\n",
    "\n",
    "print(count_matrix)"
   ]
  },
  {
   "cell_type": "code",
   "execution_count": 14,
   "id": "4623176b-917e-4387-968a-b4f42dda922d",
   "metadata": {
    "tags": []
   },
   "outputs": [
    {
     "data": {
      "text/plain": [
       "array([[1.        , 0.5       , 0.        , 0.        ],\n",
       "       [0.5       , 1.        , 0.5       , 0.40824829],\n",
       "       [0.        , 0.5       , 1.        , 0.40824829],\n",
       "       [0.        , 0.40824829, 0.40824829, 1.        ]])"
      ]
     },
     "execution_count": 14,
     "metadata": {},
     "output_type": "execute_result"
    }
   ],
   "source": [
    "# 코사인 유사도 매트릭스 계산\n",
    "cosine_sim = cosine_similarity(count_matrix, count_matrix)\n",
    "cosine_sim"
   ]
  },
  {
   "cell_type": "code",
   "execution_count": 16,
   "id": "6ae7e4d9-bbc5-486f-8cc0-42e134c54612",
   "metadata": {
    "tags": []
   },
   "outputs": [
    {
     "data": {
      "text/plain": [
       "array([0.        , 0.40824829, 0.40824829, 1.        ])"
      ]
     },
     "execution_count": 16,
     "metadata": {},
     "output_type": "execute_result"
    }
   ],
   "source": [
    "# 사용자 입력 해시태그와 각 행의 해시태그 간의 유사도 계산\n",
    "similarities = cosine_sim[-1]  # 마지막 행은 사용자 입력에 해당\n",
    "similarities"
   ]
  },
  {
   "cell_type": "code",
   "execution_count": 17,
   "id": "290ad795-fa06-49ab-9212-00f376d785ec",
   "metadata": {
    "tags": []
   },
   "outputs": [],
   "source": [
    "user_hashtag_soup = ' '.join(user_hashtags)\n",
    "user_hashtag_vector = count.transform([user_hashtag_soup])\n",
    "similarities = cosine_similarity(user_hashtag_vector, count_matrix)"
   ]
  },
  {
   "cell_type": "code",
   "execution_count": 18,
   "id": "fa6322de-5df0-4e83-9dae-3840d4193e15",
   "metadata": {},
   "outputs": [
    {
     "name": "stdout",
     "output_type": "stream",
     "text": [
      "[(0, 0.816496580927726), (1, 0.408248290463863), (3, 0.3333333333333334), (2, 0.0)]\n",
      "추천 영화:\n",
      "어트랙션 여행\n",
      "바다 여행\n",
      "부산 바다 해운대\n",
      "산 바다 여행\n"
     ]
    }
   ],
   "source": [
    "# 유사도와 영화 제목을 매핑\n",
    "similarities_with_titles = list(enumerate(similarities[0]))\n",
    "similarities_with_titles = sorted(similarities_with_titles, key=lambda x: x[1], reverse=True)\n",
    "\n",
    "print(similarities_with_titles)\n",
    "# 가장 유사한 영화 추출\n",
    "recommended_movies = []\n",
    "for i in range(4):  # 상위 3개 영화 추천\n",
    "    movie_idx = similarities_with_titles[i][0]\n",
    "    recommended_movies.append(df1['title'].iloc[movie_idx])\n",
    "\n",
    "# 사용자에게 추천 목록을 출력\n",
    "print(\"추천 영화:\")\n",
    "for movie in recommended_movies:\n",
    "    print(movie)\n"
   ]
  },
  {
   "cell_type": "code",
   "execution_count": null,
   "id": "db287e23-5fa2-4a38-afc0-6408dfbd0d0b",
   "metadata": {},
   "outputs": [],
   "source": []
  },
  {
   "cell_type": "code",
   "execution_count": null,
   "id": "2b00c625-34b1-4653-8c34-ca274f5e38c9",
   "metadata": {},
   "outputs": [],
   "source": []
  },
  {
   "cell_type": "code",
   "execution_count": null,
   "id": "55a81050-d615-49cf-840f-8e30e07b0d08",
   "metadata": {},
   "outputs": [],
   "source": []
  },
  {
   "cell_type": "code",
   "execution_count": null,
   "id": "c4cb500f-c920-4185-99d4-35f38f0f9fa0",
   "metadata": {},
   "outputs": [],
   "source": []
  },
  {
   "cell_type": "code",
   "execution_count": null,
   "id": "5f2b420c-6130-4ddb-8718-a7d8eb6cd3a0",
   "metadata": {},
   "outputs": [],
   "source": []
  },
  {
   "cell_type": "code",
   "execution_count": null,
   "id": "e944d737-0613-4c8c-bb6c-324b6dd953ac",
   "metadata": {},
   "outputs": [],
   "source": []
  },
  {
   "cell_type": "code",
   "execution_count": null,
   "id": "ade1f09b-7061-40a6-a6fe-30ee515884a8",
   "metadata": {},
   "outputs": [],
   "source": []
  },
  {
   "cell_type": "code",
   "execution_count": null,
   "id": "c3f48fe6-3602-46e9-b58a-5e90f825cf00",
   "metadata": {},
   "outputs": [],
   "source": []
  }
 ],
 "metadata": {
  "kernelspec": {
   "display_name": "Python 3 (ipykernel)",
   "language": "python",
   "name": "python3"
  },
  "language_info": {
   "codemirror_mode": {
    "name": "ipython",
    "version": 3
   },
   "file_extension": ".py",
   "mimetype": "text/x-python",
   "name": "python",
   "nbconvert_exporter": "python",
   "pygments_lexer": "ipython3",
   "version": "3.11.4"
  }
 },
 "nbformat": 4,
 "nbformat_minor": 5
}
