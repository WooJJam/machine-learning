{
 "cells": [
  {
   "cell_type": "markdown",
   "id": "29643f22-bcb6-453a-aaea-f6db70a8f470",
   "metadata": {},
   "source": [
    "# RooTrip 추천 시스템 v3\n",
    "### - 사용자가 좋아요를 누른 해시태그를 점수별로 가중치를 부여하여 게시글 추천"
   ]
  },
  {
   "cell_type": "code",
   "execution_count": 32,
   "id": "923d7d1d-f8ea-44ff-97e8-814d71e98b85",
   "metadata": {},
   "outputs": [
    {
     "name": "stdout",
     "output_type": "stream",
     "text": [
      "   id                                            Hashtag user\n",
      "0   1   [{\"tag\":\"어트랙션\", \"like\":2},{\"tag\":\"여행\",\"like\":4}]   1번\n",
      "1   2      [{\"tag\":\"바다\",\"like\":1},{\"tag\":\"여행\",\"like\":4}]   2번\n",
      "2   3  [{\"tag\":\"산\",\"like\":1},{\"tag\":\"바다\",\"like\":1},{\"...   3번\n",
      "3   4  [{\"tag\":\"부산\",\"like\":11},{\"tag\":\"바다\",\"like\":1},...   4번\n",
      "   id                                    Hashtag        like      title\n",
      "0   1              [{\"tag\":\"어트랙션\"},{\"tag\":\"여행\"}]        1234    어트랙션 여행\n",
      "1   2                [{\"tag\":\"바다\"},{\"tag\":\"여행\"}]      124124      바다 여행\n",
      "2   3    [{\"tag\":\"산\"},{\"tag\":\"바다\"},{\"tag\":\"관광\"}]         211    산 바다 여행\n",
      "3   4  [{\"tag\":\"부산\"},{\"tag\":\"바다\"},{\"tag\":\"해운대\"}]  1232145123  부산 바다 해운대\n",
      "   id                                            Hashtag  user      title\n",
      "0   1  [{\"tag\": \"어트랙션\", \"like\": 2}, {\"tag\": \"여행\", \"li...     1    어트랙션 여행\n",
      "1   2  [{\"tag\": \"바다\", \"like\": 1}, {\"tag\": \"여행\", \"like...     2      바다 여행\n",
      "2   3  [{\"tag\": \"산\", \"like\": 1}, {\"tag\": \"바다\", \"like\"...     3    산 바다 관광\n",
      "3   4  [{\"tag\": \"부산\", \"like\": 11}, {\"tag\": \"바다\", \"lik...     4  부산 바다 해운대\n"
     ]
    }
   ],
   "source": [
    "import pandas as pd\n",
    "import json\n",
    "from sklearn.feature_extraction.text import CountVectorizer\n",
    "from sklearn.metrics.pairwise import cosine_similarity\n",
    "\n",
    "# 데이터프레임 생성 (예시)\n",
    "data = {\n",
    "    'id': [1, 2, 3, 4],\n",
    "    'Hashtag': [\n",
    "        '[{\"tag\": \"어트랙션\", \"like\": 2}, {\"tag\": \"여행\", \"like\": 4}]',\n",
    "        '[{\"tag\": \"바다\", \"like\": 1}, {\"tag\": \"여행\", \"like\": 4}]',\n",
    "        '[{\"tag\": \"산\", \"like\": 1}, {\"tag\": \"바다\", \"like\": 1}, {\"tag\": \"관광\", \"like\": 2}]',\n",
    "        '[{\"tag\": \"부산\", \"like\": 11}, {\"tag\": \"바다\", \"like\": 1}, {\"tag\": \"해운대\", \"like\": 2}]'\n",
    "    ],\n",
    "    'user': [1, 2, 3, 4],\n",
    "    'title': ['어트랙션 여행', '바다 여행', '산 바다 관광', '부산 바다 해운대']\n",
    "}\n",
    "import pandas as pd\n",
    "import numpy as np\n",
    "import json\n",
    "import os\n",
    "\n",
    "# os.chdir('/Users/woojjam/Desktop/study/machine-learning/Projects/rootrip-recommendation')\n",
    "\n",
    "df1 = pd.read_csv('rootrip-user-like-weight.csv')\n",
    "print(df1)\n",
    "\n",
    "df11 = pd.read_csv('rootrip-board.csv')\n",
    "print(df11)\n",
    "                  \n",
    "df2 = pd.DataFrame(data)\n",
    "print(df2)"
   ]
  },
  {
   "cell_type": "code",
   "execution_count": 33,
   "id": "5f02bcfc-0b0d-4db5-b9e0-10c69a724bfa",
   "metadata": {
    "tags": []
   },
   "outputs": [
    {
     "data": {
      "text/html": [
       "<div>\n",
       "<style scoped>\n",
       "    .dataframe tbody tr th:only-of-type {\n",
       "        vertical-align: middle;\n",
       "    }\n",
       "\n",
       "    .dataframe tbody tr th {\n",
       "        vertical-align: top;\n",
       "    }\n",
       "\n",
       "    .dataframe thead th {\n",
       "        text-align: right;\n",
       "    }\n",
       "</style>\n",
       "<table border=\"1\" class=\"dataframe\">\n",
       "  <thead>\n",
       "    <tr style=\"text-align: right;\">\n",
       "      <th></th>\n",
       "      <th>id</th>\n",
       "      <th>Hashtag</th>\n",
       "      <th>user</th>\n",
       "    </tr>\n",
       "  </thead>\n",
       "  <tbody>\n",
       "    <tr>\n",
       "      <th>0</th>\n",
       "      <td>1</td>\n",
       "      <td>[{'tag': '어트랙션', 'like': 2}, {'tag': '여행', 'li...</td>\n",
       "      <td>1번</td>\n",
       "    </tr>\n",
       "    <tr>\n",
       "      <th>1</th>\n",
       "      <td>2</td>\n",
       "      <td>[{'tag': '바다', 'like': 1}, {'tag': '여행', 'like...</td>\n",
       "      <td>2번</td>\n",
       "    </tr>\n",
       "    <tr>\n",
       "      <th>2</th>\n",
       "      <td>3</td>\n",
       "      <td>[{'tag': '산', 'like': 1}, {'tag': '바다', 'like'...</td>\n",
       "      <td>3번</td>\n",
       "    </tr>\n",
       "    <tr>\n",
       "      <th>3</th>\n",
       "      <td>4</td>\n",
       "      <td>[{'tag': '부산', 'like': 11}, {'tag': '바다', 'lik...</td>\n",
       "      <td>4번</td>\n",
       "    </tr>\n",
       "  </tbody>\n",
       "</table>\n",
       "</div>"
      ],
      "text/plain": [
       "   id                                            Hashtag user\n",
       "0   1  [{'tag': '어트랙션', 'like': 2}, {'tag': '여행', 'li...   1번\n",
       "1   2  [{'tag': '바다', 'like': 1}, {'tag': '여행', 'like...   2번\n",
       "2   3  [{'tag': '산', 'like': 1}, {'tag': '바다', 'like'...   3번\n",
       "3   4  [{'tag': '부산', 'like': 11}, {'tag': '바다', 'lik...   4번"
      ]
     },
     "execution_count": 33,
     "metadata": {},
     "output_type": "execute_result"
    }
   ],
   "source": [
    "# JSON 데이터를 파이썬 객체로 변환\n",
    "df1['Hashtag'] = df1['Hashtag'].apply(lambda x: json.loads(x.replace('\\'', '\\\"')))\n",
    "df1"
   ]
  },
  {
   "cell_type": "code",
   "execution_count": 35,
   "id": "16298fe3-3a1a-4b99-a52b-6afd266e9757",
   "metadata": {
    "tags": []
   },
   "outputs": [],
   "source": [
    "user_hashtags = '부산, 관광, 산'.split(', ')"
   ]
  },
  {
   "cell_type": "code",
   "execution_count": 36,
   "id": "29628b3e-4cfe-4fde-83b4-624d1a4d1a44",
   "metadata": {
    "tags": []
   },
   "outputs": [],
   "source": [
    "def create_soup(x):\n",
    "    hashtags = []\n",
    "    for tag in x:\n",
    "        tag_name = tag['tag']\n",
    "        like_count = tag['like']\n",
    "        hashtags.extend([tag_name] * like_count)\n",
    "    return ' '.join(hashtags)"
   ]
  },
  {
   "cell_type": "code",
   "execution_count": 37,
   "id": "1ac3668b-4239-40f9-b163-441658daa201",
   "metadata": {
    "tags": []
   },
   "outputs": [
    {
     "data": {
      "text/html": [
       "<div>\n",
       "<style scoped>\n",
       "    .dataframe tbody tr th:only-of-type {\n",
       "        vertical-align: middle;\n",
       "    }\n",
       "\n",
       "    .dataframe tbody tr th {\n",
       "        vertical-align: top;\n",
       "    }\n",
       "\n",
       "    .dataframe thead th {\n",
       "        text-align: right;\n",
       "    }\n",
       "</style>\n",
       "<table border=\"1\" class=\"dataframe\">\n",
       "  <thead>\n",
       "    <tr style=\"text-align: right;\">\n",
       "      <th></th>\n",
       "      <th>id</th>\n",
       "      <th>Hashtag</th>\n",
       "      <th>user</th>\n",
       "      <th>soup</th>\n",
       "    </tr>\n",
       "  </thead>\n",
       "  <tbody>\n",
       "    <tr>\n",
       "      <th>0</th>\n",
       "      <td>1</td>\n",
       "      <td>[{'tag': '어트랙션', 'like': 2}, {'tag': '여행', 'li...</td>\n",
       "      <td>1번</td>\n",
       "      <td>어트랙션 어트랙션 여행 여행 여행 여행</td>\n",
       "    </tr>\n",
       "    <tr>\n",
       "      <th>1</th>\n",
       "      <td>2</td>\n",
       "      <td>[{'tag': '바다', 'like': 1}, {'tag': '여행', 'like...</td>\n",
       "      <td>2번</td>\n",
       "      <td>바다 여행 여행 여행 여행</td>\n",
       "    </tr>\n",
       "    <tr>\n",
       "      <th>2</th>\n",
       "      <td>3</td>\n",
       "      <td>[{'tag': '산', 'like': 1}, {'tag': '바다', 'like'...</td>\n",
       "      <td>3번</td>\n",
       "      <td>산 바다 관광 관광</td>\n",
       "    </tr>\n",
       "    <tr>\n",
       "      <th>3</th>\n",
       "      <td>4</td>\n",
       "      <td>[{'tag': '부산', 'like': 11}, {'tag': '바다', 'lik...</td>\n",
       "      <td>4번</td>\n",
       "      <td>부산 부산 부산 부산 부산 부산 부산 부산 부산 부산 부산 바다 해운대 해운대</td>\n",
       "    </tr>\n",
       "  </tbody>\n",
       "</table>\n",
       "</div>"
      ],
      "text/plain": [
       "   id                                            Hashtag user  \\\n",
       "0   1  [{'tag': '어트랙션', 'like': 2}, {'tag': '여행', 'li...   1번   \n",
       "1   2  [{'tag': '바다', 'like': 1}, {'tag': '여행', 'like...   2번   \n",
       "2   3  [{'tag': '산', 'like': 1}, {'tag': '바다', 'like'...   3번   \n",
       "3   4  [{'tag': '부산', 'like': 11}, {'tag': '바다', 'lik...   4번   \n",
       "\n",
       "                                          soup  \n",
       "0                        어트랙션 어트랙션 여행 여행 여행 여행  \n",
       "1                               바다 여행 여행 여행 여행  \n",
       "2                                   산 바다 관광 관광  \n",
       "3  부산 부산 부산 부산 부산 부산 부산 부산 부산 부산 부산 바다 해운대 해운대  "
      ]
     },
     "execution_count": 37,
     "metadata": {},
     "output_type": "execute_result"
    }
   ],
   "source": [
    "df1['soup'] = df1['Hashtag'].apply(create_soup)\n",
    "df1"
   ]
  },
  {
   "cell_type": "code",
   "execution_count": 38,
   "id": "55842502-88d2-400c-84a7-32c8f02d096c",
   "metadata": {
    "tags": []
   },
   "outputs": [
    {
     "data": {
      "text/plain": [
       "array([[1.        , 0.86772183, 0.        , 0.        ],\n",
       "       [0.86772183, 1.        , 0.10846523, 0.02160679],\n",
       "       [0.        , 0.10846523, 1.        , 0.03984095],\n",
       "       [0.        , 0.02160679, 0.03984095, 1.        ]])"
      ]
     },
     "execution_count": 38,
     "metadata": {},
     "output_type": "execute_result"
    }
   ],
   "source": [
    "# CountVectorizer를 사용하여 단어 벡터화\n",
    "count = CountVectorizer()\n",
    "count_matrix = count.fit_transform(df1['soup'])\n",
    "\n",
    "# 코사인 유사도 매트릭스 계산\n",
    "cosine_sim = cosine_similarity(count_matrix, count_matrix)\n",
    "cosine_sim"
   ]
  },
  {
   "cell_type": "code",
   "execution_count": 39,
   "id": "3153d6d4-66f3-41be-b367-bccf3c337f2e",
   "metadata": {
    "tags": []
   },
   "outputs": [],
   "source": [
    "# 사용자 입력 해시태그와 각 행의 해시태그 간의 유사도 계산\n",
    "user_hashtag_soup = ' '.join(user_hashtags)\n",
    "user_hashtag_vector = count.transform([user_hashtag_soup])\n",
    "\n",
    "# 좋아요를 가중치로 고려한 유사도 계산\n",
    "similarities = cosine_similarity(user_hashtag_vector, count_matrix)"
   ]
  },
  {
   "cell_type": "code",
   "execution_count": 40,
   "id": "e4355f16-1d90-4403-acde-10f46eb92615",
   "metadata": {
    "tags": []
   },
   "outputs": [],
   "source": [
    "# 유사도와 영화 제목을 매핑\n",
    "similarities_with_titles = list(enumerate(similarities[0]))\n",
    "similarities_with_titles = sorted(similarities_with_titles, key=lambda x: x[1], reverse=True)"
   ]
  },
  {
   "cell_type": "code",
   "execution_count": 42,
   "id": "ade05f02-d261-4961-96ac-9493b758b7cf",
   "metadata": {
    "tags": []
   },
   "outputs": [
    {
     "name": "stdout",
     "output_type": "stream",
     "text": [
      "추천 영화:\n",
      "4번\n",
      "3번\n",
      "1번\n",
      "2번\n"
     ]
    }
   ],
   "source": [
    "# 가장 유사한 영화 추출\n",
    "recommended_movies = []\n",
    "for i in range(4):  # 상위 3개 영화 추천\n",
    "    movie_idx = similarities_with_titles[i][0]\n",
    "    recommended_movies.append(df1['user'].iloc[movie_idx])\n",
    "\n",
    "# 사용자에게 추천 목록을 출력\n",
    "print(\"추천 영화:\")\n",
    "for movie in recommended_movies:\n",
    "    print(movie)"
   ]
  }
 ],
 "metadata": {
  "kernelspec": {
   "display_name": "Python 3 (ipykernel)",
   "language": "python",
   "name": "python3"
  },
  "language_info": {
   "codemirror_mode": {
    "name": "ipython",
    "version": 3
   },
   "file_extension": ".py",
   "mimetype": "text/x-python",
   "name": "python",
   "nbconvert_exporter": "python",
   "pygments_lexer": "ipython3",
   "version": "3.11.4"
  }
 },
 "nbformat": 4,
 "nbformat_minor": 5
}
