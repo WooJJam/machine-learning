{
 "cells": [
  {
   "cell_type": "markdown",
   "id": "572ba893-315d-47f2-b405-dd31373e0d77",
   "metadata": {},
   "source": [
    "# RooTrip 추천 시스템 - V4\n",
    "### - 사용자가 해시태그별 좋아요를 누른 숫자를 바탕으로 가중"
   ]
  },
  {
   "cell_type": "code",
   "execution_count": 79,
   "id": "51cb08e2-801e-4f97-a40d-2159615b53f8",
   "metadata": {
    "tags": []
   },
   "outputs": [
    {
     "name": "stdout",
     "output_type": "stream",
     "text": [
      "   id                                         Hashtag  board_id      title  \\\n",
      "0   1                [{'tag': '어트랙션'}, {'tag': '여행'}]         1    어트랙션 여행   \n",
      "1   2                  [{'tag': '바다'}, {'tag': '여행'}]         2      바다 여행   \n",
      "2   3    [{'tag': '산'}, {'tag': '바다'}, {'tag': '관광'}]         3    산 바다 관광   \n",
      "3   4  [{'tag': '부산'}, {'tag': '바다'}, {'tag': '해운대'}]         4  부산 바다 해운대   \n",
      "\n",
      "    weights  \n",
      "0      1 10  \n",
      "1      1 10  \n",
      "2  100 1 20  \n",
      "3     0 1 1  \n",
      "추천 게시글:\n",
      "산 바다 관광\n",
      "3\n",
      "어트랙션 여행\n",
      "1\n",
      "바다 여행\n",
      "2\n",
      "부산 바다 해운대\n",
      "4\n"
     ]
    }
   ],
   "source": [
    "import pandas as pd\n",
    "from sklearn.feature_extraction.text import CountVectorizer\n",
    "from sklearn.metrics.pairwise import cosine_similarity\n",
    "\n",
    "# 데이터프레임 생성\n",
    "data = {\n",
    "    'id': [1, 2, 3, 4],\n",
    "    'Hashtag': [\n",
    "        [{\"tag\": \"어트랙션\"}, {\"tag\": \"여행\"}],\n",
    "        [{\"tag\": \"바다\"}, {\"tag\": \"여행\"}],\n",
    "        [{\"tag\": \"산\"}, {\"tag\": \"바다\"}, {\"tag\": \"관광\"}],\n",
    "        [{\"tag\": \"부산\"}, {\"tag\": \"바다\"}, {\"tag\": \"해운대\"}]\n",
    "    ],\n",
    "    'board_id': [1, 2, 3, 4],\n",
    "    'title': ['어트랙션 여행', '바다 여행', '산 바다 관광', '부산 바다 해운대']\n",
    "}\n",
    "\n",
    "df1 = pd.DataFrame(data)\n",
    "\n",
    "user_likes = [1, 10, 1, 100, 20, 1, 0] # 어트랙션, 여행, 바다, 산, 관광, 해운대, 부산\n",
    "\n",
    "tag_mapping = {\n",
    "    \"어트랙션\": 0,\n",
    "    \"여행\": 1,\n",
    "    \"바다\": 2,\n",
    "    \"산\": 3,\n",
    "    \"관광\": 4,\n",
    "    \"해운대\": 5,\n",
    "    \"부산\": 6\n",
    "}\n",
    "\n",
    "def calculate_weights(tags, user_likes):\n",
    "    weights = [user_likes[tag_mapping.get(tag['tag'], 0)] for tag in tags]\n",
    "    return ' '.join([str(weight) for weight in weights])\n",
    "\n",
    "# 각 게시물에 대해 가중치를 계산하여 'weights' 열에 저장\n",
    "df1['weights'] = df1['Hashtag'].apply(calculate_weights, user_likes=user_likes)\n",
    "print(df1)\n",
    "\n",
    "# CountVectorizer를 사용하여 단어 벡터화\n",
    "count = CountVectorizer()\n",
    "count_matrix = count.fit_transform(df1['weights'])\n",
    "\n",
    "# 코사인 유사도 매트릭스 계산\n",
    "cosine_sim = cosine_similarity(count_matrix, count_matrix)\n",
    "\n",
    "# 사용자 입력 가중치와 각 행의 가중치 간의 유사도 계산\n",
    "user_weight_vector = count.transform([' '.join([str(user_likes[i]) for i in range(len(user_likes))])])\n",
    "\n",
    "similarities = cosine_similarity(user_weight_vector, count_matrix)\n",
    "\n",
    "# 유사도와 게시글 제목을 매핑\n",
    "similarities_with_titles = list(enumerate(similarities[0]))\n",
    "similarities_with_titles = sorted(similarities_with_titles, key=lambda x: x[1], reverse=True)\n",
    "\n",
    "# 가장 유사한 게시글 추출\n",
    "recommended_posts = []\n",
    "for i in range(4):  # 상위 3개 게시글 추천\n",
    "    post_idx = similarities_with_titles[i][0]\n",
    "    recommended_posts.append(df1['title'].iloc[post_idx])\n",
    "    recommended_posts.append(df1['board_id'].iloc[post_idx])\n",
    "\n",
    "# 사용자에게 추천 목록을 출력\n",
    "print(\"추천 게시글:\")\n",
    "for post in recommended_posts:\n",
    "    print(post)\n"
   ]
  }
 ],
 "metadata": {
  "kernelspec": {
   "display_name": "Python 3 (ipykernel)",
   "language": "python",
   "name": "python3"
  },
  "language_info": {
   "codemirror_mode": {
    "name": "ipython",
    "version": 3
   },
   "file_extension": ".py",
   "mimetype": "text/x-python",
   "name": "python",
   "nbconvert_exporter": "python",
   "pygments_lexer": "ipython3",
   "version": "3.11.4"
  }
 },
 "nbformat": 4,
 "nbformat_minor": 5
}
