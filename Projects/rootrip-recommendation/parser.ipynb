{
 "cells": [
  {
   "cell_type": "code",
   "execution_count": 71,
   "id": "00e0859b-6105-44f1-8582-17a1c6bff832",
   "metadata": {
    "tags": []
   },
   "outputs": [
    {
     "name": "stdout",
     "output_type": "stream",
     "text": [
      "/Users/woojjam/Desktop/study/machine-learning/Projects/rootrip-recommendation\n",
      "0      [images/sea/9.jpg, images/sleep/8.jpg, images/...\n",
      "1      [images/city/11.jpg, images/sleep/24.jpg, imag...\n",
      "2      [images/mountain/30.jpg, images/nature/17.jpg,...\n",
      "3      [images/city/23.jpg, images/food/8.jpg, images...\n",
      "4      [images/city/21.jpg, images/sleep/4.jpg, image...\n",
      "                             ...                        \n",
      "295    [images/nature/15.jpg, images/shopping/25.jpg,...\n",
      "296    [images/healing/11.jpg, images/nature/8.jpg, i...\n",
      "297    [images/nature/28.jpg, images/mountain/27.jpg,...\n",
      "298    [images/food/24.jpg, images/shopping/19.jpg, i...\n",
      "299    [images/nature/18.jpg, images/shopping/16.jpg,...\n",
      "Name: photo_list, Length: 300, dtype: object\n"
     ]
    }
   ],
   "source": [
    "import os\n",
    "import pandas as pd\n",
    "import random\n",
    "from ast import literal_eval\n",
    "\n",
    "cw = os.getcwd()\n",
    "print(cw)\n",
    "\n",
    "# 여러 해시태그에 대한 폴더 경로\n",
    "tag_folders = {\n",
    "    '바다': 'images/sea',\n",
    "    '숙박': 'images/sleep',\n",
    "    '쇼핑': 'images/shop',\n",
    "    '엑티비티': 'images/activity',\n",
    "    '산': 'images/mountain',\n",
    "    '관광': 'images/tour',\n",
    "    '자연': 'images/nature',\n",
    "    '음식': 'images/food',\n",
    "    '문화': 'images/culture',\n",
    "    '도시': 'images/city',\n",
    "    '쇼핑': 'images/shopping',\n",
    "    '힐링': 'images/healing',\n",
    "    '풍경': 'images/view',\n",
    "    '체험': 'images/shopping',\n",
    "    '카페': 'images/cafe',\n",
    "}\n",
    "\n",
    "# CSV 파일 읽기\n",
    "# csv_file_path = '/Users/woojjam/Desktop/study/your_csv_file.csv'  # 실제 파일 경로로 수정\n",
    "df = pd.read_csv('rootrip-board-sample.csv')\n",
    "df['hashtag'] = df['hashtag'].apply(literal_eval)\n",
    "\n",
    "# 새로운 열을 추가하여 이미지 파일 이름을 저장\n",
    "df['photo_list'] = ''\n",
    "\n",
    "# 각 행에 대해 각 태그에 대한 폴더에서 랜덤으로 이미지를 선택하여 리스트에 추가\n",
    "for idx, row in df.iterrows():\n",
    "    selected_photos = []\n",
    "    for tag in row['hashtag']:\n",
    "        folder_path = tag_folders.get(tag['tag'], '')\n",
    "        if folder_path:\n",
    "            photo_name = f\"{random.randint(1, 30)}.jpg\"  # 1부터 30까지 숫자로 가정\n",
    "            selected_photos.append(os.path.join(folder_path, photo_name))\n",
    "    df.at[idx, 'photo_list'] = selected_photos\n",
    "\n",
    "# 결과 출력\n",
    "print(df['photo_list'])\n",
    "\n",
    "# DataFrame을 CSV 파일로 저장\n",
    "df.to_csv('/Users/woojjam/Desktop/study/machine-learning/Projects/rootrip-recommendation/output.csv', index=False)\n",
    "\n"
   ]
  },
  {
   "cell_type": "code",
   "execution_count": null,
   "id": "4e299d40-b585-4680-bc0b-ae7b9033d357",
   "metadata": {},
   "outputs": [],
   "source": []
  },
  {
   "cell_type": "code",
   "execution_count": null,
   "id": "17fbb3ee-98ff-40a1-bf4c-861d674c4ad7",
   "metadata": {},
   "outputs": [],
   "source": []
  }
 ],
 "metadata": {
  "kernelspec": {
   "display_name": "Python 3 (ipykernel)",
   "language": "python",
   "name": "python3"
  },
  "language_info": {
   "codemirror_mode": {
    "name": "ipython",
    "version": 3
   },
   "file_extension": ".py",
   "mimetype": "text/x-python",
   "name": "python",
   "nbconvert_exporter": "python",
   "pygments_lexer": "ipython3",
   "version": "3.11.4"
  }
 },
 "nbformat": 4,
 "nbformat_minor": 5
}
